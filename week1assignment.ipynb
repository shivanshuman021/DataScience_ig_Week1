{
  "nbformat": 4,
  "nbformat_minor": 0,
  "metadata": {
    "colab": {
      "name": "week1assignment.ipynb",
      "provenance": []
    },
    "kernelspec": {
      "name": "python3",
      "display_name": "Python 3"
    }
  },
  "cells": [
    {
      "cell_type": "code",
      "metadata": {
        "id": "F-6bE0dYcBgA",
        "colab_type": "code",
        "colab": {}
      },
      "source": [
        "## Import stuff\n",
        " \n",
        "import numpy as np\n",
        "from sklearn import datasets, linear_model, metrics"
      ],
      "execution_count": 0,
      "outputs": []
    },
    {
      "cell_type": "code",
      "metadata": {
        "id": "gK71NIhMcEs5",
        "colab_type": "code",
        "colab": {}
      },
      "source": [
        "## Load the diabetes dataset\n",
        "diabetes = datasets.load_diabetes()\n",
        "diabetes_X = diabetes.data # matrix of dimensions 442x10\n",
        "\n",
        "\n",
        "diabetes_X = np.hstack((diabetes_X,np.ones((442,1))))\n",
        "\n",
        "\n",
        "# Split the data into training/testing sets\n",
        "diabetes_X_train = diabetes_X[:-20]\n",
        "diabetes_X_test = diabetes_X[-20:]\n",
        " \n",
        "# Split the targets into training/testing sets\n",
        "diabetes_y_train = diabetes.target[:-20]\n",
        "diabetes_y_test = diabetes.target[-20:]"
      ],
      "execution_count": 0,
      "outputs": []
    },
    {
      "cell_type": "code",
      "metadata": {
        "id": "ZGjLqHduey4B",
        "colab_type": "code",
        "outputId": "13205fe7-8171-438a-e02a-dba3ef5cc367",
        "colab": {
          "base_uri": "https://localhost:8080/",
          "height": 34
        }
      },
      "source": [
        "type(diabetes)"
      ],
      "execution_count": 3,
      "outputs": [
        {
          "output_type": "execute_result",
          "data": {
            "text/plain": [
              "sklearn.utils.Bunch"
            ]
          },
          "metadata": {
            "tags": []
          },
          "execution_count": 3
        }
      ]
    },
    {
      "cell_type": "code",
      "metadata": {
        "id": "mRarje7Ceyug",
        "colab_type": "code",
        "colab": {
          "base_uri": "https://localhost:8080/",
          "height": 34
        },
        "outputId": "56dc004f-fe09-4e6e-9338-226f7a4f526d"
      },
      "source": [
        "diabetes_X_train.shape"
      ],
      "execution_count": 4,
      "outputs": [
        {
          "output_type": "execute_result",
          "data": {
            "text/plain": [
              "(422, 11)"
            ]
          },
          "metadata": {
            "tags": []
          },
          "execution_count": 4
        }
      ]
    },
    {
      "cell_type": "code",
      "metadata": {
        "id": "ZMmFD9S6hX0E",
        "colab_type": "code",
        "colab": {
          "base_uri": "https://localhost:8080/",
          "height": 238
        },
        "outputId": "eb1802f8-2d8b-402a-a126-e17bd349157e"
      },
      "source": [
        "diabetes_X"
      ],
      "execution_count": 5,
      "outputs": [
        {
          "output_type": "execute_result",
          "data": {
            "text/plain": [
              "array([[ 0.03807591,  0.05068012,  0.06169621, ...,  0.01990842,\n",
              "        -0.01764613,  1.        ],\n",
              "       [-0.00188202, -0.04464164, -0.05147406, ..., -0.06832974,\n",
              "        -0.09220405,  1.        ],\n",
              "       [ 0.08529891,  0.05068012,  0.04445121, ...,  0.00286377,\n",
              "        -0.02593034,  1.        ],\n",
              "       ...,\n",
              "       [ 0.04170844,  0.05068012, -0.01590626, ..., -0.04687948,\n",
              "         0.01549073,  1.        ],\n",
              "       [-0.04547248, -0.04464164,  0.03906215, ...,  0.04452837,\n",
              "        -0.02593034,  1.        ],\n",
              "       [-0.04547248, -0.04464164, -0.0730303 , ..., -0.00421986,\n",
              "         0.00306441,  1.        ]])"
            ]
          },
          "metadata": {
            "tags": []
          },
          "execution_count": 5
        }
      ]
    },
    {
      "cell_type": "code",
      "metadata": {
        "id": "XJTg22ybcHsl",
        "colab_type": "code",
        "outputId": "1b1bc85a-0bf4-4db1-a184-ad0da775a484",
        "colab": {
          "base_uri": "https://localhost:8080/",
          "height": 1000
        }
      },
      "source": [
        "# train\n",
        "X = np.array(diabetes_X_train)\n",
        "y = np.array(diabetes_y_train)\n",
        "\n",
        "#print(len(X))\n",
        "\n",
        "# train: init\n",
        "W = np.random.randn(10,1)\n",
        "W = np.vstack((W,np.ones((1,1))))\n",
        "print(W.shape)\n",
        " \n",
        "learning_rate = 0.8\n",
        "\n",
        "epochs = 10000\n",
        " \n",
        "# train: gradient descent\n",
        "for i in range(epochs):\n",
        "\n",
        "    # calculate predictions\n",
        "\n",
        "    predictions = np.dot(X,W) \n",
        "    #print(predictions.shape)\n",
        "    y = y.reshape((y.shape[0],1))\n",
        "    #print(y.shape)\n",
        "\n",
        "    # calculate error and cost (mean squared error)\n",
        "    mean_squared_error =  np.sum(((predictions-y)**2)/(2*len(X)))\n",
        "\n",
        "    # calculate gradients\n",
        "    grad = (predictions-y)/len(X)\n",
        "\n",
        "    #print(grad.shape)\n",
        "    #print(W.shape)\n",
        "    #print(X.shape)\n",
        "\n",
        "    # update parameters\n",
        "    W = W - learning_rate*(np.dot(X.T,grad))\n",
        "\n",
        "    # diagnostic output\n",
        "    if i % 50 == 0: \n",
        "        print(\"Epoch %d: %f\" % (i, mean_squared_error))\n",
        "\n",
        "#print(W)\n",
        "#shape X = 422,11\n",
        "#shape grad = 422,1\n"
      ],
      "execution_count": 6,
      "outputs": [
        {
          "output_type": "stream",
          "text": [
            "(11, 1)\n",
            "Epoch 0: 14585.386484\n",
            "Epoch 50: 2398.014433\n",
            "Epoch 100: 2083.401171\n",
            "Epoch 150: 1902.905231\n",
            "Epoch 200: 1792.164780\n",
            "Epoch 250: 1719.212826\n",
            "Epoch 300: 1667.880271\n",
            "Epoch 350: 1629.757819\n",
            "Epoch 400: 1600.292262\n",
            "Epoch 450: 1576.882021\n",
            "Epoch 500: 1557.941159\n",
            "Epoch 550: 1542.433900\n",
            "Epoch 600: 1529.638791\n",
            "Epoch 650: 1519.025820\n",
            "Epoch 700: 1510.189768\n",
            "Epoch 750: 1502.812087\n",
            "Epoch 800: 1496.637677\n",
            "Epoch 850: 1491.459754\n",
            "Epoch 900: 1487.109359\n",
            "Epoch 950: 1483.447702\n",
            "Epoch 1000: 1480.360343\n",
            "Epoch 1050: 1477.752660\n",
            "Epoch 1100: 1475.546245\n",
            "Epoch 1150: 1473.676006\n",
            "Epoch 1200: 1472.087815\n",
            "Epoch 1250: 1470.736599\n",
            "Epoch 1300: 1469.584766\n",
            "Epoch 1350: 1468.600925\n",
            "Epoch 1400: 1467.758827\n",
            "Epoch 1450: 1467.036494\n",
            "Epoch 1500: 1466.415500\n",
            "Epoch 1550: 1465.880377\n",
            "Epoch 1600: 1465.418123\n",
            "Epoch 1650: 1465.017797\n",
            "Epoch 1700: 1464.670177\n",
            "Epoch 1750: 1464.367484\n",
            "Epoch 1800: 1464.103144\n",
            "Epoch 1850: 1463.871595\n",
            "Epoch 1900: 1463.668127\n",
            "Epoch 1950: 1463.488743\n",
            "Epoch 2000: 1463.330049\n",
            "Epoch 2050: 1463.189159\n",
            "Epoch 2100: 1463.063612\n",
            "Epoch 2150: 1462.951312\n",
            "Epoch 2200: 1462.850466\n",
            "Epoch 2250: 1462.759543\n",
            "Epoch 2300: 1462.677229\n",
            "Epoch 2350: 1462.602398\n",
            "Epoch 2400: 1462.534083\n",
            "Epoch 2450: 1462.471450\n",
            "Epoch 2500: 1462.413782\n",
            "Epoch 2550: 1462.360460\n",
            "Epoch 2600: 1462.310948\n",
            "Epoch 2650: 1462.264782\n",
            "Epoch 2700: 1462.221561\n",
            "Epoch 2750: 1462.180935\n",
            "Epoch 2800: 1462.142601\n",
            "Epoch 2850: 1462.106293\n",
            "Epoch 2900: 1462.071782\n",
            "Epoch 2950: 1462.038865\n",
            "Epoch 3000: 1462.007366\n",
            "Epoch 3050: 1461.977130\n",
            "Epoch 3100: 1461.948021\n",
            "Epoch 3150: 1461.919919\n",
            "Epoch 3200: 1461.892720\n",
            "Epoch 3250: 1461.866331\n",
            "Epoch 3300: 1461.840669\n",
            "Epoch 3350: 1461.815663\n",
            "Epoch 3400: 1461.791248\n",
            "Epoch 3450: 1461.767368\n",
            "Epoch 3500: 1461.743972\n",
            "Epoch 3550: 1461.721015\n",
            "Epoch 3600: 1461.698457\n",
            "Epoch 3650: 1461.676264\n",
            "Epoch 3700: 1461.654402\n",
            "Epoch 3750: 1461.632844\n",
            "Epoch 3800: 1461.611565\n",
            "Epoch 3850: 1461.590541\n",
            "Epoch 3900: 1461.569753\n",
            "Epoch 3950: 1461.549183\n",
            "Epoch 4000: 1461.528813\n",
            "Epoch 4050: 1461.508630\n",
            "Epoch 4100: 1461.488620\n",
            "Epoch 4150: 1461.468771\n",
            "Epoch 4200: 1461.449073\n",
            "Epoch 4250: 1461.429516\n",
            "Epoch 4300: 1461.410090\n",
            "Epoch 4350: 1461.390789\n",
            "Epoch 4400: 1461.371605\n",
            "Epoch 4450: 1461.352531\n",
            "Epoch 4500: 1461.333562\n",
            "Epoch 4550: 1461.314693\n",
            "Epoch 4600: 1461.295918\n",
            "Epoch 4650: 1461.277233\n",
            "Epoch 4700: 1461.258634\n",
            "Epoch 4750: 1461.240117\n",
            "Epoch 4800: 1461.221680\n",
            "Epoch 4850: 1461.203319\n",
            "Epoch 4900: 1461.185031\n",
            "Epoch 4950: 1461.166814\n",
            "Epoch 5000: 1461.148665\n",
            "Epoch 5050: 1461.130582\n",
            "Epoch 5100: 1461.112564\n",
            "Epoch 5150: 1461.094608\n",
            "Epoch 5200: 1461.076713\n",
            "Epoch 5250: 1461.058878\n",
            "Epoch 5300: 1461.041100\n",
            "Epoch 5350: 1461.023378\n",
            "Epoch 5400: 1461.005712\n",
            "Epoch 5450: 1460.988100\n",
            "Epoch 5500: 1460.970541\n",
            "Epoch 5550: 1460.953034\n",
            "Epoch 5600: 1460.935579\n",
            "Epoch 5650: 1460.918174\n",
            "Epoch 5700: 1460.900818\n",
            "Epoch 5750: 1460.883511\n",
            "Epoch 5800: 1460.866252\n",
            "Epoch 5850: 1460.849040\n",
            "Epoch 5900: 1460.831875\n",
            "Epoch 5950: 1460.814756\n",
            "Epoch 6000: 1460.797683\n",
            "Epoch 6050: 1460.780655\n",
            "Epoch 6100: 1460.763671\n",
            "Epoch 6150: 1460.746732\n",
            "Epoch 6200: 1460.729836\n",
            "Epoch 6250: 1460.712983\n",
            "Epoch 6300: 1460.696173\n",
            "Epoch 6350: 1460.679405\n",
            "Epoch 6400: 1460.662679\n",
            "Epoch 6450: 1460.645994\n",
            "Epoch 6500: 1460.629351\n",
            "Epoch 6550: 1460.612748\n",
            "Epoch 6600: 1460.596186\n",
            "Epoch 6650: 1460.579664\n",
            "Epoch 6700: 1460.563182\n",
            "Epoch 6750: 1460.546739\n",
            "Epoch 6800: 1460.530336\n",
            "Epoch 6850: 1460.513971\n",
            "Epoch 6900: 1460.497645\n",
            "Epoch 6950: 1460.481358\n",
            "Epoch 7000: 1460.465109\n",
            "Epoch 7050: 1460.448897\n",
            "Epoch 7100: 1460.432723\n",
            "Epoch 7150: 1460.416586\n",
            "Epoch 7200: 1460.400487\n",
            "Epoch 7250: 1460.384424\n",
            "Epoch 7300: 1460.368397\n",
            "Epoch 7350: 1460.352408\n",
            "Epoch 7400: 1460.336454\n",
            "Epoch 7450: 1460.320536\n",
            "Epoch 7500: 1460.304654\n",
            "Epoch 7550: 1460.288807\n",
            "Epoch 7600: 1460.272996\n",
            "Epoch 7650: 1460.257220\n",
            "Epoch 7700: 1460.241478\n",
            "Epoch 7750: 1460.225772\n",
            "Epoch 7800: 1460.210099\n",
            "Epoch 7850: 1460.194461\n",
            "Epoch 7900: 1460.178857\n",
            "Epoch 7950: 1460.163287\n",
            "Epoch 8000: 1460.147751\n",
            "Epoch 8050: 1460.132248\n",
            "Epoch 8100: 1460.116779\n",
            "Epoch 8150: 1460.101342\n",
            "Epoch 8200: 1460.085939\n",
            "Epoch 8250: 1460.070568\n",
            "Epoch 8300: 1460.055230\n",
            "Epoch 8350: 1460.039925\n",
            "Epoch 8400: 1460.024651\n",
            "Epoch 8450: 1460.009410\n",
            "Epoch 8500: 1459.994201\n",
            "Epoch 8550: 1459.979024\n",
            "Epoch 8600: 1459.963878\n",
            "Epoch 8650: 1459.948764\n",
            "Epoch 8700: 1459.933681\n",
            "Epoch 8750: 1459.918629\n",
            "Epoch 8800: 1459.903609\n",
            "Epoch 8850: 1459.888619\n",
            "Epoch 8900: 1459.873660\n",
            "Epoch 8950: 1459.858731\n",
            "Epoch 9000: 1459.843833\n",
            "Epoch 9050: 1459.828966\n",
            "Epoch 9100: 1459.814128\n",
            "Epoch 9150: 1459.799320\n",
            "Epoch 9200: 1459.784543\n",
            "Epoch 9250: 1459.769795\n",
            "Epoch 9300: 1459.755076\n",
            "Epoch 9350: 1459.740387\n",
            "Epoch 9400: 1459.725728\n",
            "Epoch 9450: 1459.711097\n",
            "Epoch 9500: 1459.696496\n",
            "Epoch 9550: 1459.681924\n",
            "Epoch 9600: 1459.667380\n",
            "Epoch 9650: 1459.652865\n",
            "Epoch 9700: 1459.638379\n",
            "Epoch 9750: 1459.623921\n",
            "Epoch 9800: 1459.609491\n",
            "Epoch 9850: 1459.595090\n",
            "Epoch 9900: 1459.580717\n",
            "Epoch 9950: 1459.566372\n"
          ],
          "name": "stdout"
        }
      ]
    },
    {
      "cell_type": "code",
      "metadata": {
        "id": "uvSdTn-0cKJL",
        "colab_type": "code",
        "colab": {
          "base_uri": "https://localhost:8080/",
          "height": 255
        },
        "outputId": "4b0b3954-6a00-46b4-f313-dad84b79d2b2"
      },
      "source": [
        "# test\n",
        "X = diabetes_X_test\n",
        "y = diabetes_y_test\n",
        "y = y.reshape((y.shape[0],1))\n",
        "\n",
        "# calculate predictions + calculate error and cost (same code as above)\n",
        "predictions = np.dot(X,W)\n",
        "mean_squared_error =  np.sum(((predictions-y)**2)/(2*len(X)))\n",
        "\n",
        "print('Coefficients: \\n', W)\n",
        "print(\"Mean squared error: %.2f\" % mean_squared_error)\n",
        "print(\"=\"*120)"
      ],
      "execution_count": 8,
      "outputs": [
        {
          "output_type": "stream",
          "text": [
            "Coefficients: \n",
            " [[   3.84142448]\n",
            " [-234.55705033]\n",
            " [ 519.93741046]\n",
            " [ 325.61664045]\n",
            " [-149.37132357]\n",
            " [ -39.67780477]\n",
            " [-189.63556521]\n",
            " [ 108.59135269]\n",
            " [ 491.70822726]\n",
            " [  79.02016669]\n",
            " [ 152.72698856]]\n",
            "Mean squared error: 996.64\n",
            "========================================================================================================================\n"
          ],
          "name": "stdout"
        }
      ]
    },
    {
      "cell_type": "code",
      "metadata": {
        "id": "ngw9blp336Dm",
        "colab_type": "code",
        "colab": {}
      },
      "source": [
        ""
      ],
      "execution_count": 0,
      "outputs": []
    }
  ]
}